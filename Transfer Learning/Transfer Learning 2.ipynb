{
 "cells": [
  {
   "cell_type": "code",
   "execution_count": 19,
   "metadata": {},
   "outputs": [],
   "source": [
    "from keras.layers.convolutional import Convolution2D,MaxPooling2D,activations,ZeroPadding2D,Conv2D\n",
    "from keras.models import Sequential, Model\n",
    "from keras.layers import Activation\n",
    "import numpy as np\n",
    "from keras.layers import Flatten, Dense, Dropout\n",
    "from keras.preprocessing import image\n",
    "from keras.applications.vgg16 import preprocess_input,decode_predictions\n"
   ]
  },
  {
   "cell_type": "code",
   "execution_count": 25,
   "metadata": {},
   "outputs": [],
   "source": [
    "model = Sequential()\n",
    "#model.add(ZeroPadding2D(padding=(1,1),input_shape=(224,224,3)))\n",
    "model.add(Convolution2D(64,(3,3),padding='same',activation='relu',input_shape=(224,224,3)))\n",
    "model.add(Convolution2D(64,(3,3),padding='same',activation='relu'))\n",
    "model.add(MaxPooling2D(strides=(2,2),pool_size=(2,2)))\n",
    "\n",
    "model.add(Convolution2D(128,(3,3),padding='same',activation='relu'))\n",
    "model.add(Convolution2D(128,(3,3),padding='same',activation='relu'))\n",
    "model.add(MaxPooling2D(strides=(2,2),pool_size=(2,2)))\n",
    "\n",
    "model.add(Convolution2D(256,(3,3),padding='same',activation='relu'))\n",
    "model.add(Convolution2D(256,(3,3),padding='same',activation='relu'))\n",
    "model.add(Convolution2D(256,(3,3),padding='same',activation='relu'))\n",
    "model.add(MaxPooling2D(strides=(2,2),pool_size=(2,2)))\n",
    "\n",
    "model.add(Convolution2D(512,(3,3),padding='same',activation='relu'))\n",
    "model.add(Convolution2D(512,(3,3),padding='same',activation='relu'))\n",
    "model.add(Convolution2D(512,(3,3),padding='same',activation='relu'))\n",
    "model.add(MaxPooling2D(strides=(2,2),pool_size=(2,2)))\n",
    "\n",
    "model.add(Convolution2D(512,(3,3),padding='same',activation='relu'))\n",
    "model.add(Convolution2D(512,(3,3),padding='same',activation='relu'))\n",
    "model.add(Convolution2D(512,(3,3),padding='same',activation='relu'))\n",
    "model.add(MaxPooling2D(strides=(2,2),pool_size=(2,2)))\n",
    "\n",
    "model.add(Flatten())\n",
    "model.add(Dense(4096,activation='relu'))\n",
    "model.add(Dropout(0.50))\n",
    "model.add(Dense(4096,activation='relu'))\n",
    "model.add(Dropout(0.50))\n",
    "model.add(Dense(1000,activation='softmax'))\n",
    "\n",
    "model.load_weights('C:\\\\Users\\\\sudramak\\\\.keras\\\\models\\\\vgg16_weights_tf_dim_ordering_tf_kernels.h5')"
   ]
  },
  {
   "cell_type": "code",
   "execution_count": 26,
   "metadata": {},
   "outputs": [],
   "source": [
    "model.compile(optimizer='sgd',loss='categorical_crossentropy')"
   ]
  },
  {
   "cell_type": "code",
   "execution_count": 27,
   "metadata": {},
   "outputs": [
    {
     "name": "stdout",
     "output_type": "stream",
     "text": [
      "[[('n02100236', 'German_short-haired_pointer', 0.86295998), ('n02099712', 'Labrador_retriever', 0.035299052), ('n02099849', 'Chesapeake_Bay_retriever', 0.023332115), ('n02092339', 'Weimaraner', 0.021350702), ('n02093428', 'American_Staffordshire_terrier', 0.011426193)]]\n"
     ]
    }
   ],
   "source": [
    "##os.chdir(\"C:\\\\Users\\\\sudramak\\\\SuperDS projects\\\\Transfer Learning\")\n",
    "img = image.load_img('C:\\\\Users\\\\sudramak\\\\SuperDS projects\\\\Transfer Learning\\\\dog.jpg', target_size = (224,224))\n",
    "x = image.img_to_array(img)\n",
    "x = np.expand_dims(x,axis=0)\n",
    "##x = preprocess_input(x)\n",
    "y = model.predict(x)\n",
    "print(decode_predictions(y))"
   ]
  },
  {
   "cell_type": "code",
   "execution_count": 8,
   "metadata": {},
   "outputs": [],
   "source": [
    "import cv2\n",
    "import numpy as np\n",
    "img = cv2.resize(cv2.imread('C:\\\\Users\\\\sudramak\\\\SuperDS projects\\\\Transfer Learning\\\\dog.jpg'),(224,224))\n",
    "mean_pixel = [103.939, 116.779, 123.68]\n",
    "img = img.astype(np.float32, copy=False)\n",
    "for c in range(3):\n",
    "    img[:, :, c] = img[:, :, c] - mean_pixel[c]\n",
    "img = img.transpose((2,0,1))\n",
    "img = np.expand_dims(img, axis=0)"
   ]
  }
 ],
 "metadata": {
  "anaconda-cloud": {},
  "kernelspec": {
   "display_name": "Python [conda root]",
   "language": "python",
   "name": "conda-root-py"
  },
  "language_info": {
   "codemirror_mode": {
    "name": "ipython",
    "version": 3
   },
   "file_extension": ".py",
   "mimetype": "text/x-python",
   "name": "python",
   "nbconvert_exporter": "python",
   "pygments_lexer": "ipython3",
   "version": "3.5.2"
  }
 },
 "nbformat": 4,
 "nbformat_minor": 2
}
